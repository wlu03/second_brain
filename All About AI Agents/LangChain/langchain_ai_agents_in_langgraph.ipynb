{
 "cells": [
  {
   "cell_type": "code",
   "execution_count": 3,
   "id": "5db4e112",
   "metadata": {},
   "outputs": [],
   "source": [
    "import openai\n",
    "import re\n",
    "import httpx\n",
    "import os\n",
    "from dotenv import load_dotenv\n",
    "\n",
    "_ = load_dotenv()\n",
    "from openai import OpenAI"
   ]
  },
  {
   "cell_type": "code",
   "execution_count": null,
   "id": "ed9ae7bc",
   "metadata": {},
   "outputs": [
    {
     "name": "stdout",
     "output_type": "stream",
     "text": [
      "<openai.OpenAI object at 0x11b591550>\n"
     ]
    }
   ],
   "source": [
    "client = OpenAI()\n",
    "print(client)"
   ]
  },
  {
   "cell_type": "code",
   "execution_count": 12,
   "id": "57dbe052",
   "metadata": {},
   "outputs": [
    {
     "name": "stdout",
     "output_type": "stream",
     "text": [
      "Wesley: This is a chat completion object.\n",
      "ChatCompletion(id='chatcmpl-BqQL2nSKCIisDf5iveJAtWxCSXTxC', choices=[Choice(finish_reason='stop', index=0, logprobs=None, message=ChatCompletionMessage(content='Hello! How can I assist you today?', refusal=None, role='assistant', annotations=[], audio=None, function_call=None, tool_calls=None))], created=1751834000, model='gpt-3.5-turbo-0125', object='chat.completion', service_tier='default', system_fingerprint=None, usage=CompletionUsage(completion_tokens=9, prompt_tokens=9, total_tokens=18, completion_tokens_details=CompletionTokensDetails(accepted_prediction_tokens=0, audio_tokens=0, reasoning_tokens=0, rejected_prediction_tokens=0), prompt_tokens_details=PromptTokensDetails(audio_tokens=0, cached_tokens=0)))\n"
     ]
    }
   ],
   "source": [
    "chat_completion = client.chat.completions.create(\n",
    "    model=\"gpt-3.5-turbo\",\n",
    "    messages=[{\"role\": \"user\", \"content\": \"hello world\"}]\n",
    ")\n",
    "print(\"Wesley: This is a chat completion object.\")\n",
    "print(chat_completion)"
   ]
  },
  {
   "cell_type": "code",
   "execution_count": 10,
   "id": "909212b2",
   "metadata": {},
   "outputs": [
    {
     "name": "stdout",
     "output_type": "stream",
     "text": [
      "Wesley: Within this object, there contains the context of the response to the message/query the user passed in.\n",
      "Hello! How can I assist you today?\n"
     ]
    }
   ],
   "source": [
    "print(\"Wesley: Within this object, there contains the context of the response to the message/query the user passed in.\")\n",
    "print(chat_completion.choices[0].message.content)"
   ]
  },
  {
   "cell_type": "markdown",
   "id": "0150aee5",
   "metadata": {},
   "source": [
    "# Building an Agent from Stratch\n",
    "Paper Link: https://react-lm.github.io\n",
    "\n",
    "GitHub: https://github.com/ysymyth/ReAct\n",
    "\n",
    "![react_framework](react_framework.png \"ReAct Framework\")\n",
    "\n",
    "Reason Only or Chain-of-thought was an LLM's ability to reason and trace their own though. WebGPT allowed the LLM to verify factual accuracy of a language model through web browsing. The ReAct framework (Reason + Act) combines both chain-of-thought prompting with acting (e.g. WebGPT) to "
   ]
  },
  {
   "cell_type": "code",
   "execution_count": null,
   "id": "a79ccee9",
   "metadata": {},
   "outputs": [],
   "source": []
  },
  {
   "cell_type": "code",
   "execution_count": null,
   "id": "b98e7111",
   "metadata": {},
   "outputs": [],
   "source": []
  }
 ],
 "metadata": {
  "kernelspec": {
   "display_name": "ml_hw4",
   "language": "python",
   "name": "python3"
  },
  "language_info": {
   "codemirror_mode": {
    "name": "ipython",
    "version": 3
   },
   "file_extension": ".py",
   "mimetype": "text/x-python",
   "name": "python",
   "nbconvert_exporter": "python",
   "pygments_lexer": "ipython3",
   "version": "3.11.10"
  }
 },
 "nbformat": 4,
 "nbformat_minor": 5
}
