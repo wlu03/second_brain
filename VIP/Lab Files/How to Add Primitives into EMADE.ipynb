{
 "cells": [
  {
   "cell_type": "markdown",
   "metadata": {},
   "source": [
    "# How to Add Primitives into EMADE\n",
    "### Written by Austin Dunn"
   ]
  },
  {
   "cell_type": "markdown",
   "metadata": {},
   "source": [
    "In this notebook I will demonstrate how to add a primitive into EMADE using the new wrapper classes."
   ]
  },
  {
   "cell_type": "markdown",
   "metadata": {},
   "source": [
    "First, we need recreate the wrapper classes EMADE uses."
   ]
  },
  {
   "cell_type": "code",
   "execution_count": 1,
   "metadata": {},
   "outputs": [],
   "source": [
    "from abc import ABC, abstractmethod\n",
    "from functools import partial\n",
    "\n",
    "class RegistryWrapper(ABC):\n",
    "    \"\"\"\n",
    "    Abstract Base Class cannot be Instantiated\n",
    "\n",
    "    Stores a mapping of primitives used in generating the PrimitiveSet\n",
    "    Can be subclassed for different types of primitives\n",
    "\n",
    "    The first object of input_types must be a EmadeDataPair\n",
    "\n",
    "    Args:\n",
    "        input_types: common inputs for every primitive stored in the wrapper\n",
    "                     used to create a mapping between arg and index\n",
    "                     example mapping created: {'EmadeDataPair0': 0, 'TriState1': 1}\n",
    "\n",
    "    \"\"\"\n",
    "    def __init__(self, input_types=[]):\n",
    "        self.prependInputs = input_types\n",
    "        self.kwpos = {}\n",
    "        for i in range(len(input_types)):\n",
    "            self.kwpos[input_types[i].__name__ + str(i)] = i\n",
    "        self.registry = {}\n",
    "\n",
    "    @abstractmethod\n",
    "    def register(self, name, p_fn, s_fn, input_types):\n",
    "        pass\n",
    "\n",
    "    def get_registry(self):\n",
    "        return self.registry"
   ]
  },
  {
   "cell_type": "markdown",
   "metadata": {},
   "source": [
    "The above class cannot be instantiated on its own. If I try to run the code:"
   ]
  },
  {
   "cell_type": "markdown",
   "metadata": {},
   "source": [
    "`my_wrapper = RegistryWrapper()`"
   ]
  },
  {
   "cell_type": "markdown",
   "metadata": {},
   "source": [
    "Python throws the TypeError below:\n",
    "\n",
    "`TypeError: Can't instantiate abstract class RegistryWrapper with abstract methods register`"
   ]
  },
  {
   "cell_type": "markdown",
   "metadata": {},
   "source": [
    "To avoid this we need to make a subclass of RegistryWrapper and implement the abstract method \"register\"."
   ]
  },
  {
   "cell_type": "markdown",
   "metadata": {},
   "source": [
    "However, we are still missing a piece. We need a wrapper for registering the primitives into the primitive set AND a wrapper for returning the results of a primitive."
   ]
  },
  {
   "cell_type": "markdown",
   "metadata": {},
   "source": [
    "Below is a condensed version of a primitive wrapper used by EMADE (cache handling, mode handling, and error handling have been removed). \n",
    "\n",
    "I have also ommitted the `kwpos` argument used for mapping arguments in *args and handling multiple data objects.\n",
    "\n",
    "If you are interested in how that code works you can find it in the source code under `wrapper_methods.py`"
   ]
  },
  {
   "cell_type": "code",
   "execution_count": 2,
   "metadata": {},
   "outputs": [],
   "source": [
    "import copy as cp\n",
    "\n",
    "def primitive_wrapper(p_name, primitive_f, setup_f, *args, **kwargs):\n",
    "    \"\"\"Condensed Wrapper method for handling data in primitives\n",
    "       This wrapper expects a list of numpy arrays instead of EMADE's DataPair object\n",
    "\n",
    "        Note: Any utility objects e.g. convolution kernels should be initialized in f_setup, or passed in as kwargs\n",
    "        Supports primitives that operate on 1 data pair. Abstracts data traversal, uses function on inner data.\n",
    "        Checklist for users:\n",
    "        - Write f_setup - will receive first instance of data, and primitive args.\n",
    "            - If defined, return named arguments that f will use\n",
    "        - Write f - f is given data of an instance, and named arguments in f_setup\n",
    "            - If f_setup not defined, f will receive data and primitive args\n",
    "        - Docstring must be defined using __doc__\n",
    "        - Primitives that use a setup method must be called without kwargs in unit tests\n",
    "\n",
    "    Args:\n",
    "        p_name: string name of the primitive\n",
    "        primitive_f: method to call on data\n",
    "        setup_f: optional setup method\n",
    "        args: primitive method arguments (list type)\n",
    "        kwargs: primitive method keyword arguments (dict type)\n",
    "\n",
    "    Returns:\n",
    "        updated numpy array\n",
    "    \"\"\"\n",
    "    # For debugging purposes let's print out method name\n",
    "    print(p_name)\n",
    "    \n",
    "    # we can assume in this case that the first argument is always the numpy array\n",
    "    data_list = args[0]\n",
    "    args = args[1:]\n",
    "    # ^ the decision to not let inner functions see the numpy array explicitly\n",
    "\n",
    "    # Note - if setup_f is None, we forward all args passed to primitive to inner func\n",
    "    # The choice is made to withhold primitive args if setup_f is provided, setup_f must label them as kwargs\n",
    "    # This makes the data processing signature as concise as possible\n",
    "    is_setup = False\n",
    "    helper_kwargs = {} # Set up reference\n",
    "\n",
    "    def setup_wrap(data):\n",
    "        nonlocal helper_kwargs, args, is_setup\n",
    "        if setup_f is not None:\n",
    "            helper_kwargs = {**kwargs, **setup_f(data, *args)}\n",
    "            args = ()\n",
    "        is_setup = True\n",
    "        \n",
    "    # Make a deepcopy of the data list to make sure the original object is not modified\n",
    "    data_list = cp.deepcopy(data_list)\n",
    "        \n",
    "    for i in range(len(data_list)):\n",
    "        data = data_list[i]\n",
    "        if not is_setup:\n",
    "            # run the setup method if exists\n",
    "            # this will only get called once\n",
    "            setup_wrap(data)\n",
    "        # run arbitrary method on the numpy array\n",
    "        data_list[i] = primitive_f(data, *args, **helper_kwargs)\n",
    "    \n",
    "    return data_list\n",
    "    "
   ]
  },
  {
   "cell_type": "markdown",
   "metadata": {},
   "source": [
    "Now that we have our primitive wrapper we can finally define our custom registry wrapper below."
   ]
  },
  {
   "cell_type": "code",
   "execution_count": 3,
   "metadata": {},
   "outputs": [],
   "source": [
    "class MyRegistryWrapper(RegistryWrapper):\n",
    "    \"\"\"\n",
    "    This wrapper is a standard registry wrapper for primitives\n",
    "    Used by signal_methods, spatial_methods, and feature_extraction_methods\n",
    "\n",
    "    Stores a mapping of primitives used in generating the PrimitiveSet\n",
    "\n",
    "    The first object of input_types must be a EmadeDataPair\n",
    "\n",
    "    Args:\n",
    "        input_types: common inputs for every primitive stored in the wrapper\n",
    "                     used to create a mapping between arg and index\n",
    "                     example mapping created: {'EmadeDataPair0': 0, 'TriState1': 1}\n",
    "\n",
    "    \"\"\"\n",
    "    def __init__(self, input_types=[]):\n",
    "        super().__init__(input_types)\n",
    "\n",
    "    def register(self, name, p_fn, s_fn, input_types):\n",
    "        # create wrapped method\n",
    "        wrapped_fn = partial(primitive_wrapper, name, p_fn, s_fn)\n",
    "\n",
    "        # create a mapping for adding primitive to pset\n",
    "        self.registry[name] = {\"function\": wrapped_fn,\n",
    "                               \"types\": input_types}\n",
    "\n",
    "        # return wrapped method\n",
    "        return wrapped_fn"
   ]
  },
  {
   "cell_type": "markdown",
   "metadata": {},
   "source": [
    "Note that the register method is now implemented and we are letting the super class (RegistryWrapper) handle the constructor method (__ init __)"
   ]
  },
  {
   "cell_type": "markdown",
   "metadata": {},
   "source": [
    "Let's start by explaining this line: `wrapped_fn = partial(primitive_wrapper, name, p_fn, s_fn)`"
   ]
  },
  {
   "cell_type": "markdown",
   "metadata": {},
   "source": [
    "- **primitive_wrapper** is the wrapper method we defined above to process the numpy arrays.\n",
    "\n",
    "- **name** is a simple string of the primitive name. We'll see an example of this later.\n",
    "\n",
    "- **p_fn** stands for primitive function/method. It's the method modifying our passed in numpy arrays.\n",
    "\n",
    "- **s_fn** stands for setup function/method. It's an optional method for setting up constants used by p_fn.\n",
    "\n",
    "The most important part is the `partial` method call. \n",
    "\n",
    "This method returns a new callable method with the name, p_fn, and s_fn arguments constant every time the method is called."
   ]
  },
  {
   "cell_type": "markdown",
   "metadata": {},
   "source": [
    "The next line: `self.registry[name] = {\"function\": wrapped_fn, \"types\": input_types}`\n",
    "\n",
    "is simply mapping the string name of the primitive to the partial function we made and the input types passed into register.\n",
    "\n",
    "What is `input_types`? In this case it's any additional arguments to a primitive not defined in the constructor.\n",
    "\n",
    "Let's take a look at an example below:"
   ]
  },
  {
   "cell_type": "code",
   "execution_count": 4,
   "metadata": {},
   "outputs": [],
   "source": [
    "method_registry = MyRegistryWrapper([list])"
   ]
  },
  {
   "cell_type": "markdown",
   "metadata": {},
   "source": [
    "When we instantiated the `MyRegistryWrapper` we gave it a list of types. In this case we only gave it `list` because our `primitive_wrapper` method expects a list of numpy arrays as the first argument.\n",
    "\n",
    "By consequence any method we register into `method_registry` must expect a numpy array as its first argument. Why?\n",
    "Because of this block of code we wrote earlier:\n",
    "\n",
    "```\n",
    "for i in range(len(data_list)):\n",
    "    data = data_list[i]\n",
    "    if not is_setup:\n",
    "        # run the setup method if exists\n",
    "        # this will only get called once\n",
    "        setup_wrap(data, None)\n",
    "    # run arbitrary method on the numpy array\n",
    "    data_list[i] = primitive_f(data, *args, **helper_kwargs)\n",
    "```\n",
    "\n",
    "`primitive_wrapper` expects a list, but our primitives need to expect a singular numpy array."
   ]
  },
  {
   "cell_type": "markdown",
   "metadata": {},
   "source": [
    "Now we have everything we need to start making primitives.\n",
    "\n",
    "We'll go through examples of how to code different kinds of primitives in EMADE."
   ]
  },
  {
   "cell_type": "markdown",
   "metadata": {},
   "source": [
    "# Standard Primitives\n",
    "### Description: Methods using the standard primitive_wrapper\n",
    "---"
   ]
  },
  {
   "cell_type": "markdown",
   "metadata": {},
   "source": [
    "## Sharing a helper method:"
   ]
  },
  {
   "cell_type": "code",
   "execution_count": 5,
   "metadata": {},
   "outputs": [],
   "source": [
    "def my_add_helper(data, value):\n",
    "    return data + value\n",
    "\n",
    "my_add = method_registry.register(\"AddInt\", my_add_helper, None, [int])\n",
    "my_add.__doc__ = \"\"\"\n",
    "Adds an integer to every element of a numpy array\n",
    "\n",
    "Args:\n",
    "    data: numpy array\n",
    "    value: integer to add\n",
    "\"\"\"\n",
    "\n",
    "my_add_float = method_registry.register(\"AddFloat\", my_add_helper, None, [float])\n",
    "my_add_float.__doc__ = \"\"\"\n",
    "Adds a float to every element of a numpy array\n",
    "\n",
    "Args:\n",
    "    data: numpy array\n",
    "    value: float to add\n",
    "\"\"\""
   ]
  },
  {
   "cell_type": "markdown",
   "metadata": {},
   "source": [
    "Above are two simple primitives. \n",
    "\n",
    "Below is additional documentation for how the registry system works.\n",
    "\n",
    "- **register:** For both methods we defined the name, passed in a method that modifies a numpy array, told the registry this     primitive has no setup method, and told the registry this primitive requires an integer.\n",
    "\n",
    "\n",
    "- **.__ doc __:** This is required for EMADE documentation. Our documentation will show the method `my_add` which is actually our wrapped partial method. However, this method does not have the typical `def my_add():` most python methods have, so we have to add our documentation to the `__doc__` attribute of the method for our documentation to work.\n",
    "\n",
    "\n",
    "- **my_add_helper:** EMADE's registry wrapper allows us to use the same helper method for both primitives defined above. The primitive_wrapper used by both primitives will call `my_add_helper` during EMADE's individual evaluation.\n",
    "\n",
    "Example:"
   ]
  },
  {
   "cell_type": "code",
   "execution_count": 6,
   "metadata": {},
   "outputs": [
    {
     "name": "stdout",
     "output_type": "stream",
     "text": [
      "AddInt\n",
      "[array([11., 12., 13., 14.]), array([15., 16., 17., 18.])]\n",
      "AddFloat\n",
      "[array([2.2, 3.2, 4.2, 5.2]), array([6.2, 7.2, 8.2, 9.2])]\n"
     ]
    }
   ],
   "source": [
    "import numpy as np\n",
    "\n",
    "# create a list of numpy arrays\n",
    "my_list = [np.array([1., 2., 3., 4.]), np.array([5., 6., 7., 8.])]\n",
    "\n",
    "# run primitive using registry wrapper + primitive wrapper\n",
    "print(my_add(my_list, 10))\n",
    "print(my_add_float(my_list, 1.2))"
   ]
  },
  {
   "cell_type": "markdown",
   "metadata": {},
   "source": [
    "## Utilizing a Setup Method:"
   ]
  },
  {
   "cell_type": "code",
   "execution_count": 7,
   "metadata": {},
   "outputs": [
    {
     "name": "stdout",
     "output_type": "stream",
     "text": [
      "Fraction\n",
      "[array([0.5, 1. , 1.5, 2. ]), array([2.5, 3. , 3.5, 4. ])]\n",
      "Fraction\n",
      "[array([inf, inf, inf, inf]), array([inf, inf, inf, inf])]\n"
     ]
    }
   ],
   "source": [
    "def fraction_setup(data, value):\n",
    "    if value != 0:\n",
    "        value = 1 / value\n",
    "    else:\n",
    "        value = np.inf\n",
    "    return { 'value':value }\n",
    "\n",
    "def fraction_helper(data, value=0.33):\n",
    "    return data * value\n",
    "\n",
    "fraction = method_registry.register(\"Fraction\", fraction_helper, fraction_setup, [float])\n",
    "fraction.__doc__ = \"\"\"\n",
    "Multiplies every element of a numpy array by a fraction\n",
    "\n",
    "Args:\n",
    "    data: numpy array\n",
    "    value: fraction denominator\n",
    "\"\"\"\n",
    "\n",
    "print(fraction(my_list, 2))\n",
    "print(fraction(my_list, 0))"
   ]
  },
  {
   "cell_type": "markdown",
   "metadata": {},
   "source": [
    "The above primitive utilizes both a helper method and a setup method.\n",
    "\n",
    "Note: All primitives are required to have a helper method. You can NOT add a primitive in with only a setup method.\n",
    "\n",
    "Why use a setup method? The answer is in the `primitive_wrapper` code we looked at earlier.\n",
    "\n",
    "Setup methods only run once in `primitive_wrapper`. This means we do not have to recalcuate the value of the fraction for every numpy array in the data list. We can assume it will be constant for every array.\n",
    "\n",
    "When implementing new primitives you should always be looking out for cases when a setup method can be used.\n",
    "\n",
    "But wait there's **more**!\n",
    "\n",
    "Multiple primitives can use the same setup method just like the example with helper methods we saw earlier."
   ]
  },
  {
   "cell_type": "markdown",
   "metadata": {},
   "source": [
    "## Multiple data objects:"
   ]
  },
  {
   "cell_type": "code",
   "execution_count": 8,
   "metadata": {},
   "outputs": [
    {
     "name": "stdout",
     "output_type": "stream",
     "text": [
      "AddArray\n",
      "[array([10., 12., 14., 16.]), array([14., 16., 18., 20.])]\n"
     ]
    }
   ],
   "source": [
    "def my_add_pair_helper(data, second_data):\n",
    "    return data + second_data\n",
    "\n",
    "my_add_arr = method_registry.register(\"AddArray\", my_add_pair_helper, None, [])\n",
    "my_add_arr.__doc__ = \"\"\"\n",
    "Adds two numpy arrays together (list + array)\n",
    "\n",
    "Args:\n",
    "    data: numpy array\n",
    "    second_data: numpy array\n",
    "\"\"\"\n",
    "\n",
    "# create a new numpy array\n",
    "my_arr = np.array([9., 10., 11., 12.])\n",
    "\n",
    "# run primitive\n",
    "print(my_add_arr(my_list, my_arr))\n",
    "\n",
    "'''\n",
    "Optional multiple data_list code\n",
    "'''\n",
    "\n",
    "method_registry_2 = MyRegistryWrapper([list, list])\n",
    "\n",
    "my_add_pair = method_registry_2.register(\"AddPair\", my_add_pair_helper, None, [])\n",
    "my_add_pair.__doc__ = \"\"\"\n",
    "Adds two numpy arrays together (list + list)\n",
    "\n",
    "Args:\n",
    "    data: numpy array\n",
    "    second_data: numpy array\n",
    "\"\"\"\n",
    "\n",
    "# create a new list of numpy arrays\n",
    "# used for optional \n",
    "my_list_2 = [np.array([9., 10., 11., 12.]), np.array([13., 14., 15., 16.])]\n",
    "\n",
    "# print(my_add_pair(my_list, my_list_2))"
   ]
  },
  {
   "cell_type": "markdown",
   "metadata": {},
   "source": [
    "Sometimes in EMADE we want to operate on more than one data object. In the example above we only took in a numpy array as the second argument and not a new list of numpy arrays.\n",
    "\n",
    "This is because our condensed `primitive_wrapper` does not support more than one data list. However, EMADE does support two data objects at once using the `kwpos` argument we saw earlier.\n",
    "\n",
    "I encourage you to modify the `primitive_wrapper` in this notebook to support `my_list_2`. If you're stuck you can look at the `primitive_wrapper` code in `wrapper_methods.py`."
   ]
  },
  {
   "cell_type": "markdown",
   "metadata": {},
   "source": [
    "# Abnormal Primitives\n",
    "### Description: Methods using a wrapper different from primitive_wrapper\n",
    "---"
   ]
  },
  {
   "cell_type": "markdown",
   "metadata": {},
   "source": [
    "## Machine Learning Methods:\n",
    "\n",
    "Machine learning methods do not follow the same framework as other primitives because of three things:\n",
    "\n",
    "- **LearnerType:** This is a custom object the learner wrapper requires. It selects a random learner from a list of valid ones with a constant set of initial parameters.\n",
    "\n",
    "\n",
    "- **ModifyLearner:** This is a special primitive which modifies the parameters of a LearnerType.\n",
    "\n",
    "\n",
    "- **Estimator Objects:** these are the classifier objects you typically see in scikit-learn such as `DecisionTreeClassifier`. EMADE creates this object based on the parameters stored in `LearnerType`.\n",
    "\n",
    "Below is a condensed version of the code EMADE uses to implement machine learning methods:"
   ]
  },
  {
   "cell_type": "code",
   "execution_count": 14,
   "metadata": {},
   "outputs": [],
   "source": [
    "from sklearn.ensemble import RandomForestClassifier\n",
    "from sklearn.neighbors import KNeighborsClassifier\n",
    "from sklearn.tree import DecisionTreeClassifier\n",
    "import random\n",
    "\n",
    "class LearnerType:\n",
    "    '''\n",
    "    Stores information about a machine learning algorithm\n",
    "    '''\n",
    "\n",
    "    def __init__(self):\n",
    "        self.learnerName, self.learnerParams = learnerGen()\n",
    "\n",
    "    def __repr__(self):\n",
    "        return 'learnerType(\\'' + str(self.learnerName) + '\\', ' + str(self.learnerParams) + ')'\n",
    "    \n",
    "    \n",
    "def learnerGen():\n",
    "    \"\"\"Generates a machine learner object\n",
    "\n",
    "    Returns:\n",
    "        a learner object\n",
    "    \"\"\"\n",
    "    learners = [\"KNN\", \"DECISION_TREE\", \"RAND_FOREST\"]\n",
    "\n",
    "    selectedLearner = random.choice(learners)\n",
    "    learnerParams = None\n",
    "    if selectedLearner == \"KNN\":\n",
    "        learnerParams = {'K': 3, 'weights':0}\n",
    "    elif selectedLearner == \"DECISION_TREE\":\n",
    "        learnerParams = {'criterion':0, 'splitter':0}\n",
    "    elif selectedLearner == \"RAND_FOREST\":\n",
    "        learnerParams = {'n_estimators': 100, 'criterion':0, 'max_depth': 3, 'class_weight':0}\n",
    "\n",
    "    return selectedLearner, learnerParams\n",
    "\n",
    "\n",
    "def modifyLearner(learner, newValue, pos=0):\n",
    "    \"\"\"Modifies a machine learner object\n",
    "\n",
    "    Args:\n",
    "        learner: learner to modify\n",
    "        newValue: new value for learner parameter\n",
    "        pos: which parameter to insert new value\n",
    "\n",
    "    Returns:\n",
    "        a learner object\n",
    "    \"\"\"\n",
    "    learnerName = learner.learnerName\n",
    "    \n",
    "    if (learnerName == \"KNN\") and (type(newValue) is int) and pos%2==0:\n",
    "        learner.learnerParams['K'] = newValue\n",
    "    elif (learnerName == \"KNN\") and (type(newValue) is int) and pos%2==1:\n",
    "        learner.learnerParams['weights'] = newValue\n",
    "        \n",
    "    elif (learnerName == \"DECISION_TREE\") and (type(newValue) is float) and pos%2==0:\n",
    "        learner.learnerParams['criterion'] = newValue\n",
    "    elif (learnerName == \"DECISION_TREE\") and (type(newValue) is int) and pos%2==1:\n",
    "        learner.learnerParams['splitter'] = newValue\n",
    "        \n",
    "    elif (learnerName == \"RAND_FOREST\") and (type(newValue) is int) and pos%3==0:\n",
    "        learner.learnerParams['n_estimators'] = newValue\n",
    "    elif (learnerName == \"RAND_FOREST\") and (type(newValue) is int) and pos%3==1:\n",
    "        learner.learnerParams['class_weight'] = newValue\n",
    "    elif (learnerName == \"RAND_FOREST\") and (type(newValue) is int) and pos%3==2:\n",
    "        learner.learnerParams['criterion'] = newValue\n",
    "\n",
    "    return learner\n",
    "\n",
    "\n",
    "def mod_select(array, dictionary, key):\n",
    "    \"\"\"Selects based on key and mod\n",
    "\n",
    "    Args:\n",
    "        array: given array\n",
    "        dictionary: given dictionary\n",
    "        key: given key\n",
    "\n",
    "    Returns:\n",
    "        An item from the array\n",
    "    \"\"\"\n",
    "    if key not in dictionary:\n",
    "        return array[0]\n",
    "    else:\n",
    "        integer = dictionary[key]\n",
    "        return array[integer % len(array)]\n",
    "\n",
    "\n",
    "def get_scikit_model(learner):\n",
    "    \"\"\"Generates a machine learning classifier\n",
    "\n",
    "    Given a learner object, produce an estimator that can be used\n",
    "    either by itself, or with an ensemble technique\n",
    "\n",
    "    Args:\n",
    "        learner: type of machine learning classifier to return\n",
    "\n",
    "    Returns:\n",
    "        a machine learning classifier\n",
    "    \"\"\"\n",
    "    # This can occur if we specify a learner not implemented in scikit\n",
    "    estimator = None\n",
    "    \n",
    "    if learner.learnerName == \"KNN\":\n",
    "        k = abs(int(learner.learnerParams['K']))\n",
    "        weights_list = ['uniform', 'distance']\n",
    "        weights = mod_select(weights_list, learner.learnerParams, 'weights')\n",
    "        estimator = KNeighborsClassifier(n_neighbors=k,\n",
    "                                         weights=weights)\n",
    "        \n",
    "    elif learner.learnerName == \"DECISION_TREE\":\n",
    "        criterions = ['gini', 'entropy']\n",
    "        criterion = mod_select(criterions, learner.learnerParams, 'criterion')\n",
    "        splitters = ['best', 'random']\n",
    "        splitter = mod_select(splitters, learner.learnerParams, 'splitter')\n",
    "        estimator = DecisionTreeClassifier(criterion=criterion, splitter=splitter)\n",
    "        \n",
    "    elif learner.learnerName == \"RAND_FOREST\":\n",
    "        n_estimators = abs(int(learner.learnerParams['n_estimators']))\n",
    "        criterions = ['gini', 'entropy']\n",
    "        criterion = mod_select(criterions, learner.learnerParams, 'criterion')\n",
    "        max_depth = abs(int(learner.learnerParams['max_depth']))\n",
    "        class_weights = [None, 'balanced', 'balanced_subsample']\n",
    "        class_weight = mod_select(class_weights, learner.learnerParams, 'class_weight')\n",
    "        estimator = RandomForestClassifier(n_estimators=n_estimators,\n",
    "                                           criterion=criterion,\n",
    "                                           max_depth=max_depth,\n",
    "                                           class_weight=class_weight)\n",
    "\n",
    "    return estimator\n",
    "\n",
    "\n",
    "def learner_wrapper(train_data, test_data, label_data, learner):\n",
    "    \"\"\"\n",
    "    Core method for all learners\n",
    "    Creates the model\n",
    "    Trains on training data\n",
    "    Predicts on testing data\n",
    "    Returns predicted labels of testing data\n",
    "\n",
    "    Args:\n",
    "        train_list: numpy array (training examples to train on)\n",
    "        test_list: numpy array (test examples to evaluate on)\n",
    "        label_list: labels for each training example (numpy array)\n",
    "        learner: data structure storing information needed to generate model\n",
    "\n",
    "    Returns:\n",
    "        predicted labels\n",
    "    \"\"\"\n",
    "    print(\"Learner Name:\", learner.learnerName)\n",
    "    print(\"Learner Params:\", learner.learnerParams)\n",
    "\n",
    "    \"\"\"\n",
    "    Setup Variables\n",
    "    \"\"\"\n",
    "    # Get the underlying base estimator to use\n",
    "    # This is the most important step because it builds on all our previous code\n",
    "    base_estimator = get_scikit_model(learner)\n",
    "    \n",
    "    # deepcopy numpy arrays\n",
    "    train_data = cp.deepcopy(train_data)\n",
    "    test_data = cp.deepcopy(test_data)\n",
    "    label_data = cp.deepcopy(label_data)\n",
    "    \n",
    "    '''\n",
    "    For this example we do not need to deepcopy the numpy arrays because the underlying data is not being modified.\n",
    "    However, in EMADE we always deepcopy the object storing all this data, which means doing so here is good practice.\n",
    "    \n",
    "    Why do we need the deepcopy? Because the multiprocessing EMADE uses allows more than one individual to be evaluated\n",
    "    at the same time. If all these evaluations are using data with the same memory reference one evaluation will affect\n",
    "    another.\n",
    "    '''\n",
    "    \n",
    "    '''\n",
    "    Fit estimator to training data\n",
    "    Predict labels of testing data\n",
    "    '''\n",
    "    base_estimator.fit(train_data, label_data)\n",
    "    predicted_classes = base_estimator.predict(test_data)\n",
    "    \n",
    "    '''\n",
    "    Return prediction\n",
    "    '''\n",
    "    return predicted_classes"
   ]
  },
  {
   "cell_type": "markdown",
   "metadata": {},
   "source": [
    "Hopefully you have read over the code above because now we are going run a small scale machine learning example.\n",
    "\n",
    "Keep in mind as you are reading over everything that all the code in this notebook is designed for genetic programming and deap.\n",
    "\n",
    "### Data\n",
    "| Input | Output |\n",
    "| ----------- | ----------- |\n",
    "| 0 0 1 | 0 |\n",
    "| 1 1 1 | 1 |\n",
    "| 1 0 1 | 1 |\n",
    "| 0 1 1 | 0 |\n",
    "| 1 0 0 | 1 |\n",
    "| 0 1 0 | 0 |\n"
   ]
  },
  {
   "cell_type": "code",
   "execution_count": 19,
   "metadata": {},
   "outputs": [
    {
     "name": "stdout",
     "output_type": "stream",
     "text": [
      "Learner Name: RAND_FOREST\n",
      "Learner Params: {'n_estimators': 100, 'criterion': 0, 'max_depth': 3, 'class_weight': 1}\n",
      "[1 0]\n"
     ]
    }
   ],
   "source": [
    "# initialize our data\n",
    "train_data = np.array([[0,0,1],\n",
    "                       [1,1,1],\n",
    "                       [1,0,1],\n",
    "                       [0,1,1]])\n",
    "\n",
    "train_labels = np.array([[0],\n",
    "                         [1],\n",
    "                         [1],\n",
    "                         [0]])\n",
    "\n",
    "test_data = np.array([[1,0,0],\n",
    "                      [0,1,0]])\n",
    "\n",
    "test_labels = np.array([[1],\n",
    "                        [0]])\n",
    "\n",
    "# Make a random learner\n",
    "my_learner = LearnerType()\n",
    "\n",
    "# Modify the learner\n",
    "# Try playing around with this method!\n",
    "my_learner = modifyLearner(my_learner, 1, pos=1)\n",
    "\n",
    "# print out the predicted labels\n",
    "print(learner_wrapper(train_data, test_data, train_labels.ravel(), my_learner))"
   ]
  },
  {
   "cell_type": "markdown",
   "metadata": {},
   "source": [
    "Hopefully you now have an understanding of how machine learning primitives work in EMADE.\n",
    "\n",
    "I encourage you to add new machine learning methods to the code above. \n",
    "\n",
    "Try adding different datasets and regression. You can even add a neural network!"
   ]
  },
  {
   "cell_type": "markdown",
   "metadata": {},
   "source": [
    "## Fit-Transform Methods:\n",
    "\n",
    "Some primitives such as PCA, K-means clustering, and feature selection methods fit and transform on an entire dataset.\n",
    "\n",
    "These methods do not operate example by example like `primitive_wrapper` and they do not use `.predict` like `learner_wrapper`.\n",
    "\n",
    "We will need a new registry wrapper and primitive wrapper.\n",
    "\n",
    "The code for these is below:"
   ]
  },
  {
   "cell_type": "code",
   "execution_count": 27,
   "metadata": {},
   "outputs": [
    {
     "name": "stdout",
     "output_type": "stream",
     "text": [
      "mySelKBest\n",
      "Selected Training Data:\n",
      " [[0]\n",
      " [1]\n",
      " [1]\n",
      " [0]]\n",
      "Selected Testing Data:\n",
      " [[1]\n",
      " [0]]\n"
     ]
    },
    {
     "name": "stderr",
     "output_type": "stream",
     "text": [
      "C:\\Users\\adunn39-gtri\\AppData\\Local\\Continuum\\anaconda3\\lib\\site-packages\\sklearn\\feature_selection\\univariate_selection.py:114: UserWarning: Features [0 2] are constant.\n",
      "  UserWarning)\n",
      "C:\\Users\\adunn39-gtri\\AppData\\Local\\Continuum\\anaconda3\\lib\\site-packages\\sklearn\\feature_selection\\univariate_selection.py:115: RuntimeWarning: divide by zero encountered in true_divide\n",
      "  f = msb / msw\n",
      "C:\\Users\\adunn39-gtri\\AppData\\Local\\Continuum\\anaconda3\\lib\\site-packages\\sklearn\\feature_selection\\univariate_selection.py:115: RuntimeWarning: invalid value encountered in true_divide\n",
      "  f = msb / msw\n"
     ]
    }
   ],
   "source": [
    "import sklearn.feature_selection\n",
    "\n",
    "SCORING_FUNCTION_LIST = [\n",
    "    sklearn.feature_selection.f_classif,\n",
    "    sklearn.feature_selection.chi2,\n",
    "    sklearn.feature_selection.f_regression\n",
    "    ]\n",
    "\n",
    "def fit_transform_wrapper(p_name, helper_function, setup_function, train_data, test_data, label_data, *args):\n",
    "    \"\"\"Template for primitives which fit and transform data\n",
    "       but do not modify the target\n",
    "\n",
    "    Args:\n",
    "        p_name:           name of primitive\n",
    "        helper_function:  returns transformed data\n",
    "        setup_function:   returns method to fit to data\n",
    "        data:             numpy array\n",
    "        target:           numpy array containing the labels of data\n",
    "        args:             list of arguments\n",
    "\n",
    "    Returns:\n",
    "        modified data pair\n",
    "    \"\"\"\n",
    "    print(p_name)\n",
    "    \n",
    "    '''\n",
    "    Transform\n",
    "    '''\n",
    "    method = setup_function(*args)\n",
    "    new_train_data, new_test_data = helper_function(train_data,\n",
    "                                                    test_data,\n",
    "                                                    label_data,\n",
    "                                                    method)\n",
    "    \n",
    "    return new_train_data, new_test_data\n",
    "\n",
    "\n",
    "class RegistryWrapperFT(RegistryWrapper):\n",
    "    \"\"\"\n",
    "    This wrapper is specific to methods which fit and transform data\n",
    "    but do not modify the target\n",
    "\n",
    "    Stores a mapping of primitives used in generating the PrimitiveSet\n",
    "\n",
    "    The first object of input_types must be a numpy array\n",
    "\n",
    "    Args:\n",
    "        input_types: common inputs for every primitive stored in the wrapper\n",
    "                     used to create a mapping between arg and index\n",
    "                     example mapping created: {'EmadeDataPair0': 0, 'TriState1': 1}\n",
    "\n",
    "    \"\"\"\n",
    "    def __init__(self, input_types=[]):\n",
    "        super().__init__(input_types)\n",
    "\n",
    "    def register(self, name, p_fn, s_fn, input_types):\n",
    "        # create wrapped method\n",
    "        wrapped_fn = partial(fit_transform_wrapper, name, p_fn, s_fn)\n",
    "\n",
    "        # create a mapping for adding primitive to pset\n",
    "        self.registry[name] = {\"function\": wrapped_fn,\n",
    "                               \"types\": input_types}\n",
    "\n",
    "        # return wrapped method\n",
    "        return wrapped_fn\n",
    "\n",
    "    \n",
    "# initialize new registry wrapper\n",
    "transform_registry = RegistryWrapperFT([np.ndarray, np.ndarray, np.ndarray])\n",
    "    \n",
    "    \n",
    "def feature_selection_helper(train_data, test_data, labels, function):\n",
    "    new_train_data = function.fit_transform(train_data, labels)\n",
    "    new_test_data = function.transform(test_data)\n",
    "    return new_train_data, new_test_data\n",
    "\n",
    "def select_k_best_scikit_setup(scoring_function=0, k=10):\n",
    "    # force k to be positive\n",
    "    k = abs(k)\n",
    "    # Get scoring function\n",
    "    scoring_function = SCORING_FUNCTION_LIST[scoring_function%len(SCORING_FUNCTION_LIST)]\n",
    "    # Create a selector for scikit's select k best\n",
    "    return sklearn.feature_selection.SelectKBest(scoring_function, k)\n",
    "\n",
    "select_k_best_scikit = transform_registry.register(\"mySelKBest\", feature_selection_helper, select_k_best_scikit_setup, [int, int])\n",
    "select_k_best_scikit.__doc__ = \"\"\"\n",
    "Returns the result of a select k best method using scikit\n",
    "\n",
    "http://scikit-learn.org/stable/modules/generated/sklearn.feature_selection.SelectKBest.html\n",
    "\n",
    "Args:\n",
    "    scoring_function: function taking two arrays X and y, and returning a\n",
    "                      pair of arrays (scores, pvalues) or a single array of scores\n",
    "    k: number of top features to select\n",
    "\n",
    "Returns:\n",
    "    feature selection method\n",
    "\"\"\"\n",
    "\n",
    "\n",
    "'''\n",
    "Run Primitive\n",
    "'''\n",
    "new_train_data, new_test_data = select_k_best_scikit(train_data, test_data, train_labels.ravel(), 0, 1)\n",
    "\n",
    "print(\"Selected Training Data:\\n\", new_train_data)\n",
    "print(\"Selected Testing Data:\\n\", new_test_data)"
   ]
  },
  {
   "cell_type": "markdown",
   "metadata": {},
   "source": [
    "## Congratulations! \n",
    "## You (Hopefully) know how to add primitives to EMADE now"
   ]
  },
  {
   "cell_type": "code",
   "execution_count": null,
   "metadata": {},
   "outputs": [],
   "source": []
  }
 ],
 "metadata": {
  "kernelspec": {
   "display_name": "Python 3",
   "language": "python",
   "name": "python3"
  },
  "language_info": {
   "codemirror_mode": {
    "name": "ipython",
    "version": 3
   },
   "file_extension": ".py",
   "mimetype": "text/x-python",
   "name": "python",
   "nbconvert_exporter": "python",
   "pygments_lexer": "ipython3",
   "version": "3.7.1"
  }
 },
 "nbformat": 4,
 "nbformat_minor": 2
}
