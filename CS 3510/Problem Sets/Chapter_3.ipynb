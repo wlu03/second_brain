{
 "cells": [
  {
   "cell_type": "markdown",
   "metadata": {},
   "source": [
    "# Exercises from Chapter 3"
   ]
  },
  {
   "cell_type": "markdown",
   "metadata": {},
   "source": [
    "# 3.1 \n",
    "Perform a depth-first search on the following graph; whenever there’s a choice of vertices, pick\n",
    "the one that is alphabetically first. Classify each edge as a tree edge or back edge, and give the\n",
    "pre and post number of each vertex.\n",
    "\n",
    "<img src=\"/Users/wesleylu/Desktop/Fall-2024-Notes/CS 3510/Problem Sets/Figures - Chapter 3/Figure 1 - 3.1.png\" alt=\"Figure 1\" width=\"200\"/>"
   ]
  },
  {
   "cell_type": "code",
   "execution_count": 1,
   "metadata": {},
   "outputs": [
    {
     "name": "stdout",
     "output_type": "stream",
     "text": [
      "Previsit times: {}\n",
      "Postvisit times: {}\n"
     ]
    }
   ],
   "source": [
    "## Initialize the dictionary\n",
    "graph = {}\n",
    "\n",
    "## Adds an edge to the directed graph\n",
    "def add_edge(graph, u, v):\n",
    "    # u -> v\n",
    "    if u not in graph: \n",
    "        graph[u] = []\n",
    "    graph[u].append(v)\n",
    "    \n",
    "# global variables\n",
    "pre = {}\n",
    "post = {}\n",
    "marked = {}\n",
    "counter = 1\n",
    "\n",
    "# Function to explore the graph\n",
    "def explore(graph, v):\n",
    "    global counter\n",
    "    marked[v] = True          \n",
    "    previsit(v)    \n",
    "    \n",
    "    # Explore all neighbors of the current node, sorted alphabetically\n",
    "    for u in sorted(graph.get(v, [])):  \n",
    "        if not marked.get(u, False):  # only explore unvisited nodes\n",
    "            explore(graph, u)\n",
    "    \n",
    "    postvisit(v)           \n",
    "    \n",
    "# mark previsit\n",
    "def previsit(v):\n",
    "    global counter\n",
    "    pre[v] = counter           \n",
    "    counter += 1               \n",
    "\n",
    "# mark postvisit\n",
    "def postvisit(v):\n",
    "    global counter\n",
    "    post[v] = counter          \n",
    "    counter += 1             \n",
    "\n",
    "# Initialize graph exploration\n",
    "def dfs(graph):\n",
    "    # Start DFS from node 'A'\n",
    "    if 'A' in graph and not marked.get('A', False):\n",
    "        explore(graph, 'A')\n",
    "    \n",
    "    # Continue DFS for any unvisited nodes, in alphabetical order\n",
    "    for v in sorted(graph):\n",
    "        if not marked.get(v, False):\n",
    "            explore(graph, v)\n"
   ]
  },
  {
   "cell_type": "code",
   "execution_count": 2,
   "metadata": {},
   "outputs": [
    {
     "name": "stdout",
     "output_type": "stream",
     "text": [
      "Previsit times: {'A': 1, 'B': 2, 'C': 3, 'F': 4, 'E': 5, 'I': 7, 'D': 13, 'G': 14, 'H': 15}\n",
      "Postvisit times: {'E': 6, 'I': 8, 'F': 9, 'C': 10, 'B': 11, 'A': 12, 'H': 16, 'G': 17, 'D': 18}\n"
     ]
    }
   ],
   "source": [
    "\n",
    "graph3_1 = {} # exercise from textbook\n",
    "add_edge(graph3_1, 'A', 'B')\n",
    "add_edge(graph3_1, 'B', 'A')\n",
    "add_edge(graph3_1, 'A', 'E')\n",
    "add_edge(graph3_1, 'E', 'A')\n",
    "add_edge(graph3_1, 'B', 'C')\n",
    "add_edge(graph3_1, 'C', 'B')\n",
    "add_edge(graph3_1, 'B', 'E')\n",
    "add_edge(graph3_1, 'E', 'B')\n",
    "add_edge(graph3_1, 'F', 'E')\n",
    "add_edge(graph3_1, 'E', 'F')\n",
    "add_edge(graph3_1, 'C', 'F')\n",
    "add_edge(graph3_1, 'F', 'C')\n",
    "add_edge(graph3_1, 'F', 'I')\n",
    "add_edge(graph3_1, 'I', 'F')\n",
    "\n",
    "add_edge(graph3_1, 'D', 'H')\n",
    "add_edge(graph3_1, 'H', 'D')\n",
    "add_edge(graph3_1, 'D', 'G')\n",
    "add_edge(graph3_1, 'G', 'D')\n",
    "add_edge(graph3_1, 'G', 'H')\n",
    "add_edge(graph3_1, 'H', 'G')\n",
    "\n",
    "dfs(graph3_1)\n",
    "print(\"Previsit times:\", pre)\n",
    "print(\"Postvisit times:\", post)"
   ]
  }
 ],
 "metadata": {
  "kernelspec": {
   "display_name": "Python 3",
   "language": "python",
   "name": "python3"
  },
  "language_info": {
   "codemirror_mode": {
    "name": "ipython",
    "version": 3
   },
   "file_extension": ".py",
   "mimetype": "text/x-python",
   "name": "python",
   "nbconvert_exporter": "python",
   "pygments_lexer": "ipython3",
   "version": "3.11.2"
  }
 },
 "nbformat": 4,
 "nbformat_minor": 2
}
