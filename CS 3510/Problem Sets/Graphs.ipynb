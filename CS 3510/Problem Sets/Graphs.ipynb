{
 "cells": [
  {
   "cell_type": "markdown",
   "metadata": {},
   "source": [
    "# DFS Graph Traversal\n",
    "## Motivational Problem\n",
    "Run DFS on this graph and list the pre and post labels of each vertex. In event of a tie, choose the node that is alphabetically first.\n",
    "\n",
    "<img src=\"Figure 1 Directed Graph.png\" alt=\"Figure 1\" width=\"200\"/>\n",
    "\n",
    "### Directed Graph\n",
    "For example, for a given graph below, start with the vertex A and explore the graph while putting pre and post labels for each vertex. <img src=\"Figure 2 Example Graph.png\" alt=\"Figure 2\" width=\"300\"/> \n",
    "\n",
    "The following is the recursion tree built from this graph. If we were to mark the steps we entered and exited explore for a node, we’d get the numbers below. We want to see all nodes, but we’re missing I, J, and K. This is because there are disconnected components in the graph. Similarly if we started at K, we would not reach much of the graph. To achieve this, we simply loop over nodes on top of this.\n",
    "\n",
    "<img src=\"Figure 3 Traversal Recursion Tree.png\" alt=\"Figure 3\" width=\"300\"/>\n",
    "\n",
    "### Missing Nodes?\n",
    "How would we also visit the nodes that are not connected to the graph that is explored. We can change this by iterating across all our vertices within the graph. Get the keySet() from a HashMap representation of an adjacency list or just use `for vertice in sorted(graph)` to iterate through all vertice. We can keep a set to contain all vertice that have been explored. The following graph that has the post and pre labels would look the image below.\n",
    "\n",
    "<img src=\"Figure 4 Nonconnect Example.png\" alt=\"Figure 4\" width=\"300\"/>\n",
    "\n",
    "#### Different Types of Edges\n",
    "• Tree edge (A, B) if it appears in the dfs tree.\n",
    "\n",
    "• Forward edge (E, G) if it exists in the graph but not in the tree because it goes from\n",
    "a parent to a child that was already explored.\n",
    "\n",
    "• Back Edge (D, A) if it exists in the graph but not in the tree because it goes from a\n",
    "child to a parent that was already explored.\n",
    "\n",
    "• Cross Edge (D, H) if it exists in the graph but not in the tree because the other vertex\n",
    "was marked, even though it doesn’t go to a parent or child.\n",
    "\n",
    "<img src=\"Figure 5 Different Edge.png\" alt=\"Figure 5\" width=\"300\"/>\n",
    "\n",
    "\n"
   ]
  },
  {
   "cell_type": "code",
   "execution_count": 3,
   "metadata": {},
   "outputs": [
    {
     "name": "stdout",
     "output_type": "stream",
     "text": [
      "{'A': ['B'], 'B': ['C', 'F', 'I'], 'C': ['F', 'D'], 'D': ['E'], 'E': ['C', 'H'], 'F': ['G'], 'G': ['J'], 'H': ['G'], 'I': ['F', 'A', 'G'], 'J': ['H']}\n"
     ]
    }
   ],
   "source": [
    "## Initialize the dictionary\n",
    "graph = {}\n",
    "\n",
    "## Adds an edge to the directed graph\n",
    "def add_edge(graph, u, v):\n",
    "    # u -> v\n",
    "    if u not in graph: \n",
    "        graph[u] = []\n",
    "    graph[u].append(v)\n",
    "\n",
    "# Add all edges\n",
    "add_edge(graph, 'A', 'B')\n",
    "add_edge(graph, 'B', 'C')\n",
    "add_edge(graph, 'B', 'F')\n",
    "add_edge(graph, 'B', 'I')\n",
    "add_edge(graph, 'C', 'F')\n",
    "add_edge(graph, 'C', 'D')\n",
    "add_edge(graph, 'D', 'E')\n",
    "add_edge(graph, 'E', 'C')\n",
    "add_edge(graph, 'E', 'H')\n",
    "add_edge(graph, 'F', 'G')\n",
    "add_edge(graph, 'G', 'J')\n",
    "add_edge(graph, 'H', 'G')\n",
    "add_edge(graph, 'I', 'F')\n",
    "add_edge(graph, 'I', 'A')\n",
    "add_edge(graph, 'I', 'G')\n",
    "add_edge(graph, 'J', 'H')\n",
    "\n",
    "# Print graph\n",
    "print(graph)"
   ]
  },
  {
   "cell_type": "code",
   "execution_count": 4,
   "metadata": {},
   "outputs": [
    {
     "name": "stdout",
     "output_type": "stream",
     "text": [
      "Previsit times: {'A': 1, 'B': 2, 'C': 3, 'D': 4, 'E': 5, 'H': 6, 'G': 7, 'J': 8, 'F': 14, 'I': 17}\n",
      "Postvisit times: {'J': 9, 'G': 10, 'H': 11, 'E': 12, 'D': 13, 'F': 15, 'C': 16, 'I': 18, 'B': 19, 'A': 20}\n"
     ]
    }
   ],
   "source": [
    "# global variables\n",
    "pre = {}\n",
    "post = {}\n",
    "marked = {}\n",
    "counter = 1\n",
    "\n",
    "# Function to explore the graph\n",
    "def explore(graph, v):\n",
    "    global counter\n",
    "    marked[v] = True          \n",
    "    previsit(v)    \n",
    "    \n",
    "    # Explore all neighbors of the current node, sorted alphabetically\n",
    "    for u in sorted(graph.get(v, [])):  \n",
    "        if not marked.get(u, False):  # only explore unvisited nodes\n",
    "            explore(graph, u)\n",
    "    \n",
    "    postvisit(v)           \n",
    "    \n",
    "# mark previsit\n",
    "def previsit(v):\n",
    "    global counter\n",
    "    pre[v] = counter           \n",
    "    counter += 1               \n",
    "\n",
    "# mark postvisit\n",
    "def postvisit(v):\n",
    "    global counter\n",
    "    post[v] = counter          \n",
    "    counter += 1             \n",
    "\n",
    "# Initialize graph exploration\n",
    "def dfs(graph):\n",
    "    # Start DFS from node 'A'\n",
    "    if 'A' in graph and not marked.get('A', False):\n",
    "        explore(graph, 'A')\n",
    "    \n",
    "    # Continue DFS for any unvisited nodes, in alphabetical order\n",
    "    for v in sorted(graph):\n",
    "        if not marked.get(v, False):\n",
    "            explore(graph, v)\n",
    "\n",
    "\n",
    "dfs(graph)\n",
    "\n",
    "print(\"Previsit times:\", pre)\n",
    "print(\"Postvisit times:\", post)"
   ]
  },
  {
   "cell_type": "markdown",
   "metadata": {},
   "source": [
    "# Cycles\n",
    "If a graph has a cycle, it will have a backedge. A cycle can be defined $v_0 \\rightarrow ... \\rightarrow v_k \\rightarrow v_0$. Let $v_i$ be the first traversed vertex in this cycle. The $v_i \\rightarrow v_{i+1}$ will be traversed next and $v_{i-1} \\rightarrow v_i$ will be the backedge because it will point to it's parent. \n",
    "\n",
    "Cycles can be checked in `O(n)` using the algorithm below\n",
    "The graph below is \n",
    "\n",
    "<img src=\"Figure 1 Directed Graph.png\n",
    "\" alt=\"Figure 1\" width=\"300\"/>\n"
   ]
  },
  {
   "cell_type": "code",
   "execution_count": 13,
   "metadata": {},
   "outputs": [],
   "source": [
    "marked = {}  \n",
    "t_marked = {} # Store whether or not a vertex is a parent\n",
    "for vertex in graph:\n",
    "    marked[vertex] = False\n",
    "    t_marked[vertex] = False \n",
    "\n",
    "\n",
    "def explore_cycles(graph, v):\n",
    "    marked[v] = True\n",
    "    t_marked[v] = True\n",
    "\n",
    "    # explore graph neigbor of vertex v\n",
    "    for u in graph[v]:\n",
    "        if t_marked.get(u, False):\n",
    "            print(\"cycle found\")\n",
    "        elif not marked.get(u, False):\n",
    "            explore_cycles(graph, u) \n",
    "            \n",
    "    # After all neighbors are processedremove v from call stack\n",
    "    t_marked[v] = False\n",
    "    \n",
    "def dfs(graph):\n",
    "    for vertex in sorted(graph):\n",
    "        if not marked[vertex]:\n",
    "            explore_cycles(graph, vertex)"
   ]
  },
  {
   "cell_type": "code",
   "execution_count": 14,
   "metadata": {},
   "outputs": [
    {
     "name": "stdout",
     "output_type": "stream",
     "text": [
      "cycle found\n",
      "cycle found\n",
      "cycle found\n"
     ]
    }
   ],
   "source": [
    "## Initialize the dictionary\n",
    "graph = {}\n",
    "\n",
    "## Adds an edge to the directed graph\n",
    "def add_edge(graph, u, v):\n",
    "    # u -> v\n",
    "    if u not in graph: \n",
    "        graph[u] = []\n",
    "    graph[u].append(v)\n",
    "\n",
    "# Add all edges\n",
    "add_edge(graph, 'A', 'B')\n",
    "add_edge(graph, 'B', 'C')\n",
    "add_edge(graph, 'B', 'F')\n",
    "add_edge(graph, 'B', 'I')\n",
    "add_edge(graph, 'C', 'F')\n",
    "add_edge(graph, 'C', 'D')\n",
    "add_edge(graph, 'D', 'E')\n",
    "add_edge(graph, 'E', 'C')\n",
    "add_edge(graph, 'E', 'H')\n",
    "add_edge(graph, 'F', 'G')\n",
    "add_edge(graph, 'G', 'J')\n",
    "add_edge(graph, 'H', 'G')\n",
    "add_edge(graph, 'I', 'F')\n",
    "add_edge(graph, 'I', 'A')\n",
    "add_edge(graph, 'I', 'G')\n",
    "add_edge(graph, 'J', 'H')\n",
    "\n",
    "# Print graph\n",
    "dfs(graph)"
   ]
  },
  {
   "cell_type": "markdown",
   "metadata": {},
   "source": [
    "# Topological Sort\n",
    "If we have a directed acyclic graph (DAG), we like to sort he graph by precedence, we can use this algorithm. Use DFS for this algorithm as well. The first vertex in topological sorting is always a vertex with an in-degree of 0. The output of the following picture would be: 5, 4, 2, 0, 1, 3 or 4, 5, 0, 1, 2, 3. Perform DFS on the 0-depth graph. After exiting the recursion/finishing DFS, add the node to the end of a list.\n",
    "\n",
    "Good Video: https://www.youtube.com/watch?v=7J3GadLzydI&ab_channel=CarlthePerson\n",
    "\n",
    "<img src=\"Figure 6 DAG.png\" alt=\"Figure 6\" width=\"300\"/>\n"
   ]
  },
  {
   "cell_type": "code",
   "execution_count": null,
   "metadata": {},
   "outputs": [],
   "source": []
  }
 ],
 "metadata": {
  "kernelspec": {
   "display_name": "Python 3",
   "language": "python",
   "name": "python3"
  },
  "language_info": {
   "codemirror_mode": {
    "name": "ipython",
    "version": 3
   },
   "file_extension": ".py",
   "mimetype": "text/x-python",
   "name": "python",
   "nbconvert_exporter": "python",
   "pygments_lexer": "ipython3",
   "version": "3.11.2"
  }
 },
 "nbformat": 4,
 "nbformat_minor": 2
}
